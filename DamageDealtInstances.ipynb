{
 "cells": [
  {
   "cell_type": "code",
   "execution_count": null,
   "metadata": {},
   "outputs": [],
   "source": [
    "import pandas as pd\n",
    "from os import walk\n",
    "import matplotlib.pyplot as plt\n",
    "from CritRole.Common import EDamageTypes\n",
    "from CritRole.Common import validOrZero\n",
    "\n",
    "globalData = {}\n",
    "accmData = []\n",
    "\n",
    "gindex = 0\n",
    "\n",
    "def process_file(root, x, character):\n",
    "    global gindex\n",
    "    fileindex = x.split('.')[0].split(' ')[1].zfill(3)\n",
    "#    if not x == \"64.html.csv\":# and not x == \"44.html.csv\" and not x == \"33.html.csv\":\n",
    "#       return\n",
    "    #print(\"Processing file: \" + str(x))\n",
    "    eviFrame = pd.read_csv(root + x, index_col=0);\n",
    "    retable = eviFrame.index.values\n",
    "    #print(eviFrame[\"PhysicalInstVals\"][0:20])\n",
    "    #eviFrame = eviFrame.loc[:, EDamageTypes[0]:EDamageTypes[len(EDamageTypes) - 1]+\"Instances\"]\n",
    "    #eviFrame = eviFrame.loc[:, EDamageTypes[0]:EDamageTypes[len(EDamageTypes) - 1]]\n",
    "    #eviFrame = eviFrame.loc[:, \"Physical\":\"LightningInstances\"]\n",
    "    eviFrame = eviFrame.loc[:, \"PhysicalInstVals\":\"PhysicalInstVals\"]\n",
    "    eviFrame = eviFrame[\"PhysicalInstVals\"]\n",
    "    #print(ev[character])\n",
    "    #eviFrame = eviFrame[\"Physical\"]\n",
    "    #eviFrame = eviFrame.iloc[[(character)]]\n",
    "    #eviFrame = eviFrame.rename(index={1: gindex})\n",
    "    #eviFrame.index.name = \"Episode\"\n",
    "    #last = eviFrame.index[-1]\n",
    "    #eviFrame = eviFrame.rename(index={last: str(fileindex)})\n",
    "    #eviFrame[\"Episode\"] = fileindex\n",
    "    gindex += 1\n",
    "    # + eviFrame[2:8]\n",
    "    #eviFrame = eviFrame.drop(['Trinket'])\n",
    "    \n",
    "    nFrame = pd.DataFrame()\n",
    "    \n",
    "    dummies = []\n",
    "    #longest = 0\n",
    "    #longestIndex = 0\n",
    "    \n",
    "    #Episode.Character\n",
    "    for ch in range(0,10):\n",
    "        #print(retable[ch])\n",
    "        #print(eviFrame[ch])\n",
    "        if fileindex == \"110\":\n",
    "            print(ch)\n",
    "        try:\n",
    "            dummy = eviFrame[ch].replace(\"[\", \"\").replace(\"]\", \"\").split(',')\n",
    "            numberFeed = [int(i) for i in dummy]\n",
    "            dummies.append((len(numberFeed), retable[ch], numberFeed))\n",
    "            \n",
    "            if fileindex == \"110\":\n",
    "                print(\"\\t\" + str(numberFeed))\n",
    "            \n",
    "            #if len(numberFeed) > longest:\n",
    "            #    longest = len(numberFeed)\n",
    "            #    longestIndex = len(dummies) - 1\n",
    "        except:\n",
    "            continue\n",
    "\n",
    "    dummies.sort(reverse=True)\n",
    "    for im in range(0,len(dummies)):\n",
    "        _, x, m = dummies[im]\n",
    "        se = pd.Series(m)\n",
    "        nFrame[x] = se\n",
    "\n",
    "    if fileindex == \"110\":\n",
    "        print(nFrame)\n",
    "    #print(nFrame)\n",
    "    #print(\"HO\\n\\n\")\n",
    "            \n",
    "    \n",
    "    accmData.append((fileindex, nFrame));\n",
    "    #print(character)\n",
    "    #if len(accmData) > character:\n",
    "    #    #accmData[0].append(eviFrame, ignore_index=True);\n",
    "    #    accmData[character] = pd.concat([accmData[character], eviFrame]);\n",
    "    #    #print(gindex)\n",
    "    #    #print(accmData[0])\n",
    "    #else:\n",
    "    #    accmData.append(eviFrame);\n",
    "    \n",
    "    return retable\n",
    "        \n",
    "# Enumerate the folder\n",
    "damageTakens = []\n",
    "rootDirectory = \"./ParsedDamageDealt/\"\n",
    "for (dirpath, dirnames, filenames) in walk(rootDirectory):\n",
    "    damageTakens.extend(filenames)\n",
    "\n",
    "chararr = []\n",
    "    \n",
    "for chars in range(0,1):\n",
    "    for singleFile in damageTakens:\n",
    "        chararr = process_file(rootDirectory, singleFile, chars)\n",
    "        \n",
    "        \n",
    "    #accmData[chars] = accmData[chars].sort_index()\n",
    "    #print(\"======= \" + chararr[chars] + str(chars) + \" ========\")\n",
    "    #print(accmData[chars])\n",
    "        \n",
    "print(\"Done\")\n",
    "\n",
    "\n"
   ]
  },
  {
   "cell_type": "code",
   "execution_count": null,
   "metadata": {},
   "outputs": [],
   "source": [
    "import matplotlib.colors as mplc\n",
    "# Lightning  Poison  Fire  Falling  Radiant  Necrotic  Psychic  Ice  Acid  Thunder  Physical  \n",
    "colorsList = [\n",
    "    (1,1,0),\n",
    "    (0.05,0.5,0.05),\n",
    "    (1,0.25,0),\n",
    "    (0.5,0.5,0.7),\n",
    "    (1,0.8,0.05), # Radiant\n",
    "    (0.5,0.25,0),\n",
    "    (0.8,0.0,0.8), #Phychic\n",
    "    (0.5,0.7,1.0),\n",
    "    (0,1,0), #Acid\n",
    "    (1,1,1),\n",
    "    (0.9,0.9,1.0)\n",
    "]\n",
    "#colorsList = [(1,1,1)]\n",
    "CustomCmap = mplc.ListedColormap(colorsList)"
   ]
  },
  {
   "cell_type": "code",
   "execution_count": null,
   "metadata": {},
   "outputs": [],
   "source": [
    "ldpi = 198#99\n",
    "lfs = (48,27)"
   ]
  },
  {
   "cell_type": "code",
   "execution_count": null,
   "metadata": {},
   "outputs": [],
   "source": [
    "accmData.sort()"
   ]
  },
  {
   "cell_type": "code",
   "execution_count": null,
   "metadata": {},
   "outputs": [],
   "source": [
    "finalFrame = pd.DataFrame()\n",
    "\n",
    "for i in accmData:\n",
    "    y, x = i\n",
    "    if y == \"109\":\n",
    "        print(\"HI\")\n",
    "        print(x)\n",
    "    finalFrame = pd.concat([finalFrame, x], sort=False);\n",
    "    \n",
    "#finalFrame.to_csv(\"derp.csv\")"
   ]
  },
  {
   "cell_type": "code",
   "execution_count": null,
   "metadata": {},
   "outputs": [],
   "source": [
    "ll = plt.figure(dpi=ldpi)#;, facecolor='w', edgecolor='k')\n",
    "    #plt.figure(figsize=(20,10))\n",
    "#indexvalues = [int(x) for x in accmData[0].index.values]\n",
    "#gplt = accmData[0].plot.area(stacked=True, figsize=(48,27), colormap=\"tab20c\")\n",
    "_, x = accmData[112]\n",
    "gplt = x.transpose().plot.bar(ax = plt.gca(), figsize=lfs, stacked=False, colormap=\"winter\")#, xticks=indexvalues)\n",
    "gplt.set_facecolor('#121212')\n",
    "gplt.plot()\n",
    "#exd.plot.bar()"
   ]
  },
  {
   "cell_type": "code",
   "execution_count": null,
   "metadata": {},
   "outputs": [],
   "source": [
    "ll = plt.figure(dpi=ldpi)#;, facecolor='w', edgecolor='k')\n",
    "    #plt.figure(figsize=(20,10))\n",
    "#indexvalues = [int(x) for x in accmData[0].index.values]\n",
    "#gplt = accmData[0].plot.area(stacked=True, figsize=(48,27), colormap=\"tab20c\")\n",
    "gplt = finalFrame.transpose().plot.bar(ax = plt.gca(), figsize=lfs, stacked=False, colormap=\"autumn\")#, xticks=indexvalues)\n",
    "gplt.set_facecolor('#121212')\n",
    "plt.gca().legend_.remove()\n",
    "gplt.plot()\n",
    "#exd.plot.bar()"
   ]
  },
  {
   "cell_type": "code",
   "execution_count": null,
   "metadata": {},
   "outputs": [],
   "source": [
    "ll = plt.figure(dpi=ldpi)#;, facecolor='w', edgecolor='k')\n",
    "    #plt.figure(figsize=(20,10))\n",
    "#indexvalues = [int(x) for x in accmData[0].index.values]\n",
    "#gplt = accmData[0].plot.area(stacked=True, figsize=(48,27), colormap=\"tab20c\")\n",
    "gplt = finalFrame[\"Pike\"].transpose().plot.bar(ax = plt.gca(), figsize=lfs, stacked=False, colormap=\"winter\")#, xticks=indexvalues)\n",
    "gplt.set_facecolor('#121212')\n",
    "gplt.plot()\n",
    "#exd.plot.bar()"
   ]
  },
  {
   "cell_type": "code",
   "execution_count": null,
   "metadata": {
    "scrolled": true
   },
   "outputs": [],
   "source": [
    "#frames\n",
    "framelist = []\n",
    "ev = pd.DataFrame()\n",
    "for i in range(0,len(accmData)):\n",
    "    framelist.append(accmData[i])\n",
    "    ev[chararr[i]] = accmData[i][\"Physical\"]\n",
    "    \n",
    "# use\n",
    "#ev = pd.concat(accmData, axis=1)\n",
    "ev"
   ]
  },
  {
   "cell_type": "code",
   "execution_count": null,
   "metadata": {
    "scrolled": true
   },
   "outputs": [],
   "source": [
    "import numpy as np\n",
    "exd = ev.apply(np.sum, axis=1)\n",
    "#exd\n",
    "    #loc[:,\"To\":\"Effect\"]\n",
    "ll = plt.figure(dpi=ldpi)#;, facecolor='w', edgecolor='k')\n",
    "    #plt.figure(figsize=(20,10))\n",
    "indexvalues = [int(x) for x in accmData[i].index.values]\n",
    "#gplt = accmData[0].plot.area(stacked=True, figsize=(48,27), colormap=\"tab20c\")\n",
    "gplt = exd.plot.bar(ax = plt.gca(), figsize=lfs, stacked=True, colormap=CustomCmap, xticks=indexvalues)\n",
    "gplt.set_facecolor('#121212')\n",
    "gplt.plot()\n",
    "exd.plot.bar()"
   ]
  },
  {
   "cell_type": "code",
   "execution_count": null,
   "metadata": {
    "scrolled": true
   },
   "outputs": [],
   "source": [
    "for i in range(0,len(accmData)):\n",
    "    print(chararr[i])\n",
    "    ll = plt.figure(dpi=ldpi)#;, facecolor='w', edgecolor='k')\n",
    "    #plt.figure(figsize=(20,10))\n",
    "    indexvalues = [int(x) for x in accmData[i].index.values]\n",
    "    #gplt = accmData[0].plot.area(stacked=True, figsize=(48,27), colormap=\"tab20c\")\n",
    "    gplt = accmData[i].plot.bar(ax = plt.gca(), figsize=lfs, stacked=True, colormap=\"tab20c\", xticks=indexvalues)\n",
    "    gplt.set_facecolor('#121212')\n",
    "    gplt.plot()\n",
    "    #print(accmData[i])\n",
    "    plt.savefig(\"out/\" + chararr[i] + \".bar.dealt.png\")"
   ]
  },
  {
   "cell_type": "code",
   "execution_count": null,
   "metadata": {},
   "outputs": [],
   "source": [
    "ll = plt.figure(dpi=ldpi)#;, facecolor='w', edgecolor='k')\n",
    "#plt.figure(figsize=(20,10))\n",
    "indexvalues = [int(x) for x in ev.index.values]\n",
    "#gplt = accmData[0].plot.area(stacked=True, figsize=(48,27), colormap=\"tab20c\")\n",
    "gplt = ev.plot.bar(ax = plt.gca(), figsize=lfs, stacked=True, colormap=\"tab20c\", xticks=indexvalues)\n",
    "gplt.set_facecolor('#121212')\n",
    "gplt.plot()\n",
    "#print(accmData[i])\n",
    "plt.savefig(\"out/stacked.bar.dealt.png\")"
   ]
  },
  {
   "cell_type": "code",
   "execution_count": null,
   "metadata": {
    "scrolled": true
   },
   "outputs": [],
   "source": [
    "for i in range(0,len(accmData)):\n",
    "    print(chararr[i])\n",
    "    ll = plt.figure(dpi=ldpi)#;, facecolor='w', edgecolor='k')\n",
    "    #plt.figure(figsize=(20,10))\n",
    "    indexvalues = [int(x) for x in accmData[i].index.values]\n",
    "    #print(indexvalues)\n",
    "    #print(accmData[0].cumsum())\n",
    "    gplt = accmData[i].cumsum().plot(ax = plt.gca(), figsize=lfs, xticks=indexvalues, colormap=CustomCmap)\n",
    "    gplt.set_facecolor('#121212')\n",
    "    gplt.plot()\n",
    "    plt.savefig(\"out/\" + chararr[i] + \".line.dealt.png\")\n",
    "\n",
    "    #plt.show()\n",
    "    #.area(stacked=True)"
   ]
  },
  {
   "cell_type": "code",
   "execution_count": null,
   "metadata": {
    "scrolled": true
   },
   "outputs": [],
   "source": [
    "for i in range(0,len(accmData)):\n",
    "    print(chararr[i])\n",
    "    ll = plt.figure(dpi=ldpi)#;, facecolor='w', edgecolor='k')\n",
    "    #plt.figure(figsize=(20,10))\n",
    "    #gplt = accmData[0].plot.area(stacked=True, figsize=(48,27), colormap=\"tab20c\")\n",
    "    #print(accmData[i].squeeze())#.rename(index={'115': chararr[i]}).squeeze())\n",
    "    gplt = accmData[i].squeeze().plot.pie(ax = plt.gca(), stacked=False, figsize=(32,18), colormap=\"tab20c\")\n",
    "    gplt.set_facecolor('#121212')\n",
    "    gplt.plot()\n",
    "    plt.savefig(\"out/\" + chararr[i] + \".pie.dealt.png\")\n"
   ]
  },
  {
   "cell_type": "code",
   "execution_count": null,
   "metadata": {},
   "outputs": [],
   "source": [
    "indexvalues = [int(x) for x in accmData[0].index.values]\n",
    "for i in range(0,113):\n",
    "    print(str(i + 1) + \" : \" + str(indexvalues[i]))\n",
    "    "
   ]
  }
 ],
 "metadata": {
  "kernelspec": {
   "display_name": "Python 3",
   "language": "python",
   "name": "python3"
  },
  "language_info": {
   "codemirror_mode": {
    "name": "ipython",
    "version": 3
   },
   "file_extension": ".py",
   "mimetype": "text/x-python",
   "name": "python",
   "nbconvert_exporter": "python",
   "pygments_lexer": "ipython3",
   "version": "3.6.6"
  }
 },
 "nbformat": 4,
 "nbformat_minor": 2
}
