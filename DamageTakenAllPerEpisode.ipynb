{
 "cells": [
  {
   "cell_type": "code",
   "execution_count": null,
   "metadata": {},
   "outputs": [],
   "source": [
    "import pandas as pd\n",
    "from os import walk\n",
    "import matplotlib.pyplot as plt\n",
    "from CritRole.Common import EDamageTypes\n",
    "from CritRole.Common import validOrZero\n",
    "import numpy as np\n",
    "\n",
    "globalData = {}\n",
    "accmData = []\n",
    "\n",
    "gindex = 0\n",
    "\n",
    "def process_file(root, x, character):\n",
    "    global gindex\n",
    "    fileindex = x.split('.')[0].zfill(3)\n",
    "#    if not x == \"64.html.csv\":# and not x == \"44.html.csv\" and not x == \"33.html.csv\":\n",
    "#       return\n",
    "    #print(\"Processing file: \" + str(x))\n",
    "    eviFrame = pd.read_csv(root + x, index_col=0);\n",
    "    retable = eviFrame.index.values\n",
    "    #print(eviFrame[\"PhysicalInstVals\"][0:20])\n",
    "    #eviFrame = eviFrame.loc[:, EDamageTypes[0]:EDamageTypes[len(EDamageTypes) - 1]+\"Instances\"]\n",
    "    eviFrame = eviFrame.loc[:, EDamageTypes[0]:EDamageTypes[len(EDamageTypes) - 1]]\n",
    "    eviFrame = eviFrame.iloc[[(character)]]\n",
    "    #eviFrame = eviFrame.rename(index={1: gindex})\n",
    "    eviFrame.index.name = \"Episode\"\n",
    "    last = eviFrame.index[-1]\n",
    "    eviFrame = eviFrame.rename(index={last: str(fileindex)})\n",
    "    #eviFrame[\"Episode\"] = fileindex\n",
    "    gindex += 1\n",
    "    # + eviFrame[2:8]\n",
    "    #eviFrame = eviFrame.drop(['Trinket'])\n",
    "    #print(eviFrame)\n",
    "    \n",
    "    #print(character)\n",
    "    if len(accmData) > character:\n",
    "        #accmData[0].append(eviFrame, ignore_index=True);\n",
    "        accmData[character] = pd.concat([accmData[character], eviFrame]);\n",
    "        #print(gindex)\n",
    "        #print(accmData[0])\n",
    "    else:\n",
    "        accmData.append(eviFrame);\n",
    "        #print(accmData[0])\n",
    "        \n",
    "\n",
    "    #print(eviFrame)\n",
    "    #print(accmData)\n",
    "#    print(eviFrame.shape[0])\n",
    "    for i in range(0, len(EDamageTypes)):\n",
    "        #print(eviFrame.columns[i]);\n",
    "        dAgg = eviFrame[eviFrame.columns[i]];\n",
    "\n",
    "        if EDamageTypes[i] in globalData:\n",
    "            globalData[EDamageTypes[i]][0] += dAgg\n",
    "        else:\n",
    "            globalData[EDamageTypes[i]] = []\n",
    "            globalData[EDamageTypes[i]].append(dAgg)\n",
    "#        DamageAgg = eviFrame[''\n",
    "    return retable\n",
    "        \n",
    "# Enumerate the folder\n",
    "damageTakens = []\n",
    "rootDirectory = \"./ParsedDamageTaken/\"\n",
    "for (dirpath, dirnames, filenames) in walk(rootDirectory):\n",
    "    damageTakens.extend(filenames)\n",
    "\n",
    "chararr = []\n",
    "    \n",
    "for chars in range(0,9):\n",
    "    for singleFile in damageTakens:\n",
    "        chararr = process_file(rootDirectory, singleFile, chars)\n",
    "        \n",
    "    accmData[chars] = accmData[chars].sort_index()\n",
    "    print(\"======= CHAR \" + str(chars) + \" ========\")\n",
    "    print(accmData[chars])\n",
    "        \n",
    "print(\"Done\")\n"
   ]
  },
  {
   "cell_type": "code",
   "execution_count": null,
   "metadata": {},
   "outputs": [],
   "source": [
    "import matplotlib.colors as mplc\n",
    "# Lightning  Poison  Fire  Falling  Radiant  Necrotic  Psychic  Ice  Acid  Thunder  Physical  \n",
    "colorsList = [\n",
    "    (1,1,0),\n",
    "    (0.05,0.5,0.05),\n",
    "    (1,0.25,0),\n",
    "    (0.5,0.5,0.7),\n",
    "    (1,0.8,0.05), # Radiant\n",
    "    (0.5,0.25,0),\n",
    "    (0.8,0.0,0.8), #Phychic\n",
    "    (0.5,0.7,1.0),\n",
    "    (0,1,0), #Acid\n",
    "    (1,1,1),\n",
    "    (0.9,0.9,1.0)\n",
    "]\n",
    "CustomCmap = mplc.ListedColormap(colorsList)"
   ]
  },
  {
   "cell_type": "code",
   "execution_count": null,
   "metadata": {},
   "outputs": [],
   "source": [
    "def parseTotal(x):\n",
    "    print(x)"
   ]
  },
  {
   "cell_type": "code",
   "execution_count": null,
   "metadata": {},
   "outputs": [],
   "source": [
    "for i in range(0, len(accmData)):\n",
    "    accmData[i][\"Collect\"] = accmData[i].apply(np.sum, axis=1)\n",
    "    #loc[:,\"To\":\"Effect\"]"
   ]
  },
  {
   "cell_type": "code",
   "execution_count": null,
   "metadata": {
    "scrolled": true
   },
   "outputs": [],
   "source": [
    "#frames\n",
    "framelist = []\n",
    "ev = pd.DataFrame()\n",
    "for i in range(0,len(accmData)):\n",
    "    framelist.append(accmData[i])\n",
    "    ev[chararr[i]] = accmData[i][\"Collect\"]\n",
    "    \n",
    "# use\n",
    "#ev = pd.concat(accmData, axis=1)\n",
    "ev"
   ]
  },
  {
   "cell_type": "code",
   "execution_count": null,
   "metadata": {},
   "outputs": [],
   "source": [
    "ll = plt.figure(dpi=99)#;, facecolor='w', edgecolor='k')\n",
    "#plt.figure(figsize=(20,10))\n",
    "indexvalues = [int(x) for x in accmData[i].index.values]\n",
    "#gplt = accmData[0].plot.area(stacked=True, figsize=(48,27), colormap=\"tab20c\")\n",
    "gplt = ev.plot.bar(ax = plt.gca(), stacked=True, figsize=(48,27), colormap=CustomCmap, xticks=indexvalues)\n",
    "gplt.set_facecolor('#121212')\n",
    "gplt.plot()\n",
    "plt.savefig(\"out/campaignDamageTakenPerEpisode.taken.png\")"
   ]
  },
  {
   "cell_type": "code",
   "execution_count": null,
   "metadata": {},
   "outputs": [],
   "source": [
    "ll = plt.figure(dpi=99)#;, facecolor='w', edgecolor='k')\n",
    "#plt.figure(figsize=(20,10))\n",
    "indexvalues = [int(x) for x in accmData[i].index.values]\n",
    "#gplt = accmData[0].plot.area(stacked=True, figsize=(48,27), colormap=\"tab20c\")\n",
    "gplt = ev.plot.bar(ax = plt.gca(), stacked=False, figsize=(48,27), colormap=CustomCmap, xticks=indexvalues)\n",
    "gplt.set_facecolor('#121212')\n",
    "gplt.plot()\n",
    "plt.savefig(\"out/campaignDamageTakenPerEpisode.alt.barnostack.png\")"
   ]
  }
 ],
 "metadata": {
  "kernelspec": {
   "display_name": "Python 3",
   "language": "python",
   "name": "python3"
  },
  "language_info": {
   "codemirror_mode": {
    "name": "ipython",
    "version": 3
   },
   "file_extension": ".py",
   "mimetype": "text/x-python",
   "name": "python",
   "nbconvert_exporter": "python",
   "pygments_lexer": "ipython3",
   "version": "3.6.6"
  }
 },
 "nbformat": 4,
 "nbformat_minor": 2
}
